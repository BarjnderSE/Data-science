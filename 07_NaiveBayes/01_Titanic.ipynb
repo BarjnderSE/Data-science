{
 "cells": [
  {
   "cell_type": "markdown",
   "metadata": {},
   "source": [
    "Naive Bayes Classifier:\n",
    "\n",
    "The Naive Bayes algorithm is a probabilistic classifier based on Bayes' Theorem. It assumes that the features (independent variables) are conditionally independent, which is why it's called \"naive.\" Even though this assumption rarely holds true in real-world data, Naive Bayes often performs surprisingly well for many types of classification problems.\n",
    "Types of Naive Bayes Classifiers:\n",
    "\n",
    "There are three types of Naive Bayes classifiers, each used depending on the nature of the data:\n",
    "\n",
    "    Gaussian Naive Bayes: Assumes that the features are normally distributed (continuous data).\n",
    "    Multinomial Naive Bayes: Suitable for discrete data (e.g., word counts in text classification).\n",
    "    Bernoulli Naive Bayes: Suitable for binary/boolean features."
   ]
  },
  {
   "cell_type": "code",
   "execution_count": 43,
   "metadata": {},
   "outputs": [
    {
     "name": "stdout",
     "output_type": "stream",
     "text": [
      "Missing values in dataset: survived      0\n",
      "pclass        0\n",
      "sex           0\n",
      "age           0\n",
      "sibsp         0\n",
      "parch         0\n",
      "fare          0\n",
      "embarked      2\n",
      "adult_male    0\n",
      "alone         0\n",
      "dtype: int64\n",
      "\n",
      "Data Types:\n",
      " pclass        int64\n",
      "sex           int64\n",
      "age         float64\n",
      "sibsp         int64\n",
      "parch         int64\n",
      "fare        float64\n",
      "embarked    float64\n",
      "dtype: object\n",
      "Error while fitting the model: Input X contains NaN.\n",
      "GaussianNB does not accept missing values encoded as NaN natively. For supervised learning, you might want to consider sklearn.ensemble.HistGradientBoostingClassifier and Regressor which accept missing values encoded as NaNs natively. Alternatively, it is possible to preprocess the data, for instance by using an imputer transformer in a pipeline or drop samples with missing values. See https://scikit-learn.org/stable/modules/impute.html You can find a list of all estimators that handle NaN values at the following page: https://scikit-learn.org/stable/modules/impute.html#estimators-that-handle-nan-values\n",
      "Accuracy: 0.776536312849162\n"
     ]
    },
    {
     "data": {
      "image/png": "[encoded data removed]",
      "text/plain": [
       "<Figure size 500x500 with 2 Axes>"
      ]
     },
     "metadata": {},
     "output_type": "display_data"
    },
    {
     "name": "stdout",
     "output_type": "stream",
     "text": [
      "\n",
      "Classification Report:\n",
      "               precision    recall  f1-score   support\n",
      "\n",
      "           0       0.83      0.78      0.80       105\n",
      "           1       0.71      0.77      0.74        74\n",
      "\n",
      "    accuracy                           0.78       179\n",
      "   macro avg       0.77      0.78      0.77       179\n",
      "weighted avg       0.78      0.78      0.78       179\n",
      "\n",
      "\n",
      "Example Prediction (Survived=1, Died=0): [1]\n"
     ]
    }
   ],
   "source": [
    "import seaborn as sns\n",
    "import pandas as pd\n",
    "import matplotlib.pyplot as plt\n",
    "import warnings\n",
    "from sklearn.model_selection import train_test_split\n",
    "from sklearn.naive_bayes import GaussianNB\n",
    "from sklearn.metrics import accuracy_score, confusion_matrix, classification_report\n",
    "from sklearn.preprocessing import LabelEncoder\n",
    "\n",
    "# Ignore warnings\n",
    "warnings.filterwarnings(\"ignore\")\n",
    "\n",
    "# Step 1: Load Titanic dataset\n",
    "df = sns.load_dataset('titanic')\n",
    "\n",
    "# Step 2: Data Preprocessing\n",
    "df.drop(columns=['who', 'deck', 'embark_town', 'alive', 'class'], inplace=True)  # Drop unnecessary columns\n",
    "df['age'].fillna(df['age'].median(), inplace=True)  # Fill missing 'age' with median\n",
    "df['fare'].fillna(df['fare'].median(), inplace=True)  # Fill missing 'fare' with median\n",
    "\n",
    "# Check for missing values in the dataset\n",
    "print(\"Missing values in dataset:\", df.isnull().sum())\n",
    "\n",
    "# Encode 'sex' and 'embarked' as numeric values\n",
    "df['sex'] = df['sex'].map({'male': 0, 'female': 1})  # Male=0, Female=1\n",
    "df['embarked'] = df['embarked'].map({'C': 0, 'Q': 1, 'S': 2})  # C=0, Q=1, S=2\n",
    "\n",
    "# Drop rows with missing 'survived' values\n",
    "df.dropna(subset=['survived'], inplace=True)\n",
    "\n",
    "# Step 3: Prepare features and target\n",
    "X = df[['pclass', 'sex', 'age', 'sibsp', 'parch', 'fare', 'embarked']]\n",
    "y = df['survived']\n",
    "\n",
    "# Check data types to ensure features are numeric\n",
    "print(\"\\nData Types:\\n\", X.dtypes)\n",
    "\n",
    "# Step 4: Split data into train and test sets\n",
    "X_train, X_test, y_train, y_test = train_test_split(X, y, test_size=0.2, random_state=42)\n",
    "\n",
    "# Step 5: Train Naive Bayes model\n",
    "try:\n",
    "    model = GaussianNB().fit(X_train, y_train)\n",
    "except ValueError as e:\n",
    "    print(f\"Error while fitting the model: {e}\")\n",
    "\n",
    "# Step 6: Predictions\n",
    "y_pred = model.predict(X_test)\n",
    "\n",
    "# Step 7: Accuracy\n",
    "print(\"Accuracy:\", accuracy_score(y_test, y_pred))\n",
    "\n",
    "# Step 8: Confusion Matrix Chart\n",
    "plt.figure(figsize=(5,5))\n",
    "sns.heatmap(confusion_matrix(y_test, y_pred), annot=True, fmt=\"d\", cmap=\"Blues\", xticklabels=['Died', 'Survived'], yticklabels=['Died', 'Survived'])\n",
    "plt.title('Confusion Matrix')\n",
    "plt.show()\n",
    "\n",
    "# Step 9: Classification Report\n",
    "print(\"\\nClassification Report:\\n\", classification_report(y_test, y_pred))\n",
    "\n",
    "# Step 10: Example Prediction\n",
    "example_data = [[1, 0, 22, 1, 0, 7.25, 0]]  # Example data\n",
    "example_prediction = model.predict(example_data)\n",
    "print(\"\\nExample Prediction (Survived=1, Died=0):\", example_prediction)\n"
   ]
  },
  {
   "cell_type": "code",
   "execution_count": 44,
   "metadata": {},
   "outputs": [
    {
     "name": "stdout",
     "output_type": "stream",
     "text": [
      "Prediction (1 = Survived, 0 = Died): 1\n"
     ]
    }
   ],
   "source": [
    "# Example: Predict survival for a single passenger\n",
    "example_data = [[1, 0, 22, 1, 0, 7.25, 0]]  # Example data for pclass, sex, age, sibsp, parch, fare, embarked\n",
    "example_prediction = model.predict(example_data)\n",
    "print(f\"Prediction (1 = Survived, 0 = Died): {example_prediction[0]}\")\n"
   ]
  },
  {
   "cell_type": "code",
   "execution_count": 45,
   "metadata": {},
   "outputs": [
    {
     "name": "stdout",
     "output_type": "stream",
     "text": [
      "Predictions for DataFrame (1 = Survived, 0 = Died): [1 1 0]\n"
     ]
    }
   ],
   "source": [
    "# Example: Predict survival for a DataFrame of samples\n",
    "import pandas as pd\n",
    "\n",
    "# Create a DataFrame\n",
    "data = pd.DataFrame({\n",
    "    'pclass': [1, 3, 2],\n",
    "    'sex': [0, 1, 0],\n",
    "    'age': [22, 28, 35],\n",
    "    'sibsp': [1, 0, 0],\n",
    "    'parch': [0, 0, 0],\n",
    "    'fare': [7.25, 13.0, 10.5],\n",
    "    'embarked': [0, 2, 1]\n",
    "})\n",
    "\n",
    "# Make predictions\n",
    "predictions = model.predict(data)\n",
    "print(f\"Predictions for DataFrame (1 = Survived, 0 = Died): {predictions}\")\n"
   ]
  },
  {
   "cell_type": "code",
   "execution_count": null,
   "metadata": {},
   "outputs": [],
   "source": []
  }
 ],
 "metadata": {
  "kernelspec": {
   "display_name": "ml_env",
   "language": "python",
   "name": "python3"
  },
  "language_info": {
   "codemirror_mode": {
    "name": "ipython",
    "version": 3
   },
   "file_extension": ".py",
   "mimetype": "text/x-python",
   "name": "python",
   "nbconvert_exporter": "python",
   "pygments_lexer": "ipython3",
   "version": "3.9.21"
  }
 },
 "nbformat": 4,
 "nbformat_minor": 2
}
